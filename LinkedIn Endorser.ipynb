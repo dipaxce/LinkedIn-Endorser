{
 "cells": [
  {
   "cell_type": "code",
   "execution_count": 1,
   "metadata": {
    "collapsed": true
   },
   "outputs": [],
   "source": [
    "from selenium import webdriver\n",
    "import time \n",
    "\n",
    "# Enter your LinkedIn Password\n",
    "pass_key = ''   ## Store this in environment variable? Find out"
   ]
  },
  {
   "cell_type": "markdown",
   "metadata": {},
   "source": [
    "# TODO: Create an UI to Enter your user_id, password and your friend's complete address including http\n",
    "\n",
    "\n",
    "\n",
    "# Or, \n",
    "\n",
    "# Store the credentials in env variables\n",
    "\n",
    "\n",
    "# TODO: Add exception handler for login\n"
   ]
  },
  {
   "cell_type": "markdown",
   "metadata": {},
   "source": [
    "## Step 1: Logging In"
   ]
  },
  {
   "cell_type": "code",
   "execution_count": 2,
   "metadata": {
    "collapsed": false
   },
   "outputs": [],
   "source": [
    "##Logging in to your linkedIn profile\n",
    "\n",
    "driver = webdriver.Chrome(executable_path='C:/Users/user/Downloads/Programs/chromedriver')   ## Specify the path for your driver\n",
    "driver.get('https://www.linkedin.com/login')\n",
    "\n",
    "signin = '//*[@id=\"username\"]'\n",
    "password = '//*[@id=\"password\"]'\n",
    "\n",
    "\n",
    "sign_in = driver.find_element_by_xpath(signin)\n",
    "\n",
    "\n",
    "sign_in.send_keys('')   ## Enter your LinkedIn username\n",
    "\n",
    "passon = driver.find_element_by_xpath(password).send_keys(pass_key)  ## Enter your password\n",
    "\n",
    "sign_in.submit()\n",
    "time.sleep(5)\n",
    "# btn_path = '//*[@id=\"app__container\"]/main/div[2]/form/div[4]/button'\n",
    "# btn = driver.find_elements_by_xpath(path)\n",
    "# btn.click()"
   ]
  },
  {
   "cell_type": "markdown",
   "metadata": {},
   "source": [
    "## TO DO: Run the code only after the page loads completely. How to find the page is loaded completely?\n"
   ]
  },
  {
   "cell_type": "markdown",
   "metadata": {},
   "source": [
    "## Step 2: Opening friend's Profile and waiting for the page to load completely."
   ]
  },
  {
   "cell_type": "markdown",
   "metadata": {},
   "source": [
    "# TODO: Check if the path is correct or not, include or exclude http"
   ]
  },
  {
   "cell_type": "code",
   "execution_count": 3,
   "metadata": {
    "collapsed": false
   },
   "outputs": [],
   "source": [
    "\n",
    "driver.get('')  ##Enter your friend's linkedIn path\n",
    "\n",
    "#Wait till the page loads\n",
    "\n",
    "\n",
    "#Scroll to the bottom of the page, so that the skill section is loaded\n",
    "SCROLL_PAUSE_TIME = 0.5\n",
    "\n",
    "# Get scroll height\n",
    "last_height = driver.execute_script(\"return document.body.scrollHeight\")\n",
    "\n",
    "while True:\n",
    "    # Scroll down to bottom\n",
    "    driver.execute_script(\"window.scrollTo(0, (document.body.scrollHeight/2));\")\n",
    "\n",
    "    # Wait to load page\n",
    "    time.sleep(SCROLL_PAUSE_TIME)\n",
    "\n",
    "    # Calculate new scroll height and compare with last scroll height\n",
    "    new_height = driver.execute_script(\"return document.body.scrollHeight\")\n",
    "    if new_height == last_height:\n",
    "        break\n",
    "    last_height = new_height"
   ]
  },
  {
   "cell_type": "markdown",
   "metadata": {},
   "source": [
    "# Classes name for reference"
   ]
  },
  {
   "cell_type": "code",
   "execution_count": 4,
   "metadata": {
    "collapsed": true
   },
   "outputs": [],
   "source": [
    "# skill_class_name = \"pv-profile-section pv-skill-categories-section artdeco-container-card first-degree ember-view\"\n",
    "# main_sub_class_name = \"pv-skill-categories-section__top-skills pv-profile-section__section-info section-info pb1\"\n",
    "\n",
    "#expand_class = \"pv-profile-section__card-action-bar pv-skills-section__additional-skills artdeco-container-card-action-bar artdeco-button artdeco-button--tertiary artdeco-button--3 artdeco-button--fluid\"\n",
    "\n",
    "# endorse_button = 'pv-skill-entity__featured-endorse-button-shared artdeco-button artdeco-button--circle artdeco-button--1 artdeco-button--secondary ember-view'\n"
   ]
  },
  {
   "cell_type": "markdown",
   "metadata": {},
   "source": [
    "# TODO: Include condition to check if there's expand button or not"
   ]
  },
  {
   "cell_type": "markdown",
   "metadata": {},
   "source": [
    "## Step 3: Endorsing all the skills"
   ]
  },
  {
   "cell_type": "markdown",
   "metadata": {},
   "source": [
    "# TODO: Set condition to open expand button if there's any"
   ]
  },
  {
   "cell_type": "code",
   "execution_count": 5,
   "metadata": {
    "collapsed": false
   },
   "outputs": [],
   "source": [
    "expand_skills_btn = driver.find_element_by_class_name('pv-profile-section__card-action-bar').click()    ## Only a single class name is accessible, how to include space?\n",
    "\n",
    "## Setting wait time so as all the skills are loaded\n",
    "# driver.implicitly_wait(10)   \n",
    "time.sleep(4)\n",
    "\n",
    "# end_link  ##Lists all the buttons\n",
    "\n",
    "driver.execute_script(\"window.scrollTo(0, (document.body.scrollHeight/2));\")  ## Go to top again\n",
    "\n",
    "time.sleep(4)\n",
    "\n",
    "end_link = driver.find_elements_by_class_name('pv-skill-entity__featured-endorse-button-shared')\n",
    "## Iterate through all the buttons and click them\n",
    "for skills in end_link:\n",
    "    skills.click()\n",
    "    time.sleep(2)\n",
    "    \n",
    "    \n",
    "## Problem: Sometimes all the skills are not endorsed\n"
   ]
  },
  {
   "cell_type": "markdown",
   "metadata": {},
   "source": [
    "# TODO: Return the status "
   ]
  },
  {
   "cell_type": "markdown",
   "metadata": {
    "collapsed": true
   },
   "source": [
    "## Step 4: Log out\n"
   ]
  },
  {
   "cell_type": "code",
   "execution_count": 7,
   "metadata": {
    "collapsed": false
   },
   "outputs": [],
   "source": [
    "driver.get(\"https://www.linkedin.com/m/logout/\")"
   ]
  }
 ],
 "metadata": {
  "anaconda-cloud": {},
  "kernelspec": {
   "display_name": "Python [conda root]",
   "language": "python",
   "name": "conda-root-py"
  },
  "language_info": {
   "codemirror_mode": {
    "name": "ipython",
    "version": 3
   },
   "file_extension": ".py",
   "mimetype": "text/x-python",
   "name": "python",
   "nbconvert_exporter": "python",
   "pygments_lexer": "ipython3",
   "version": "3.5.6"
  }
 },
 "nbformat": 4,
 "nbformat_minor": 1
}
